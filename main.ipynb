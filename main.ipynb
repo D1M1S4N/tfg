{
 "cells": [
  {
   "cell_type": "markdown",
   "id": "35644c31",
   "metadata": {},
   "source": [
    "Imports"
   ]
  },
  {
   "cell_type": "code",
   "execution_count": 1,
   "id": "bd9bf9af",
   "metadata": {},
   "outputs": [],
   "source": [
    "import pandas as pd\n",
    "import numpy as np\n",
    "import MetaTrader5 as mt5\n",
    "from download_data import get_candle_data, get_tick_data, save_to_csv, timeframe_to_string\n",
    "from correct_data import correct_candle_data, correct_tick_data"
   ]
  },
  {
   "cell_type": "markdown",
   "id": "1942ee74",
   "metadata": {},
   "source": [
    "Download and save candle data"
   ]
  },
  {
   "cell_type": "code",
   "execution_count": 4,
   "id": "5b90a944",
   "metadata": {},
   "outputs": [
    {
     "name": "stdout",
     "output_type": "stream",
     "text": [
      "Data saved to c:\\Users\\alpha.DESKTOP-55DQ8S8\\Desktop\\tfg\\data\\EURUSD_H1_2025-01-01_2025-02-01.csv\n"
     ]
    },
    {
     "data": {
      "text/html": [
       "<div>\n",
       "<style scoped>\n",
       "    .dataframe tbody tr th:only-of-type {\n",
       "        vertical-align: middle;\n",
       "    }\n",
       "\n",
       "    .dataframe tbody tr th {\n",
       "        vertical-align: top;\n",
       "    }\n",
       "\n",
       "    .dataframe thead th {\n",
       "        text-align: right;\n",
       "    }\n",
       "</style>\n",
       "<table border=\"1\" class=\"dataframe\">\n",
       "  <thead>\n",
       "    <tr style=\"text-align: right;\">\n",
       "      <th></th>\n",
       "      <th>time</th>\n",
       "      <th>open</th>\n",
       "      <th>high</th>\n",
       "      <th>low</th>\n",
       "      <th>close</th>\n",
       "      <th>tick_volume</th>\n",
       "      <th>spread</th>\n",
       "    </tr>\n",
       "  </thead>\n",
       "  <tbody>\n",
       "    <tr>\n",
       "      <th>0</th>\n",
       "      <td>2025-01-02 00:00:00</td>\n",
       "      <td>1.03516</td>\n",
       "      <td>1.03581</td>\n",
       "      <td>1.03477</td>\n",
       "      <td>1.03565</td>\n",
       "      <td>1602</td>\n",
       "      <td>0.00003</td>\n",
       "    </tr>\n",
       "    <tr>\n",
       "      <th>1</th>\n",
       "      <td>2025-01-02 01:00:00</td>\n",
       "      <td>1.03566</td>\n",
       "      <td>1.03576</td>\n",
       "      <td>1.03464</td>\n",
       "      <td>1.03509</td>\n",
       "      <td>2458</td>\n",
       "      <td>0.00000</td>\n",
       "    </tr>\n",
       "    <tr>\n",
       "      <th>2</th>\n",
       "      <td>2025-01-02 02:00:00</td>\n",
       "      <td>1.03508</td>\n",
       "      <td>1.03566</td>\n",
       "      <td>1.03473</td>\n",
       "      <td>1.03520</td>\n",
       "      <td>2848</td>\n",
       "      <td>0.00000</td>\n",
       "    </tr>\n",
       "    <tr>\n",
       "      <th>3</th>\n",
       "      <td>2025-01-02 03:00:00</td>\n",
       "      <td>1.03521</td>\n",
       "      <td>1.03608</td>\n",
       "      <td>1.03442</td>\n",
       "      <td>1.03579</td>\n",
       "      <td>5883</td>\n",
       "      <td>0.00000</td>\n",
       "    </tr>\n",
       "    <tr>\n",
       "      <th>4</th>\n",
       "      <td>2025-01-02 04:00:00</td>\n",
       "      <td>1.03579</td>\n",
       "      <td>1.03715</td>\n",
       "      <td>1.03577</td>\n",
       "      <td>1.03711</td>\n",
       "      <td>2385</td>\n",
       "      <td>0.00000</td>\n",
       "    </tr>\n",
       "  </tbody>\n",
       "</table>\n",
       "</div>"
      ],
      "text/plain": [
       "                 time     open     high      low    close  tick_volume  \\\n",
       "0 2025-01-02 00:00:00  1.03516  1.03581  1.03477  1.03565         1602   \n",
       "1 2025-01-02 01:00:00  1.03566  1.03576  1.03464  1.03509         2458   \n",
       "2 2025-01-02 02:00:00  1.03508  1.03566  1.03473  1.03520         2848   \n",
       "3 2025-01-02 03:00:00  1.03521  1.03608  1.03442  1.03579         5883   \n",
       "4 2025-01-02 04:00:00  1.03579  1.03715  1.03577  1.03711         2385   \n",
       "\n",
       "    spread  \n",
       "0  0.00003  \n",
       "1  0.00000  \n",
       "2  0.00000  \n",
       "3  0.00000  \n",
       "4  0.00000  "
      ]
     },
     "execution_count": 4,
     "metadata": {},
     "output_type": "execute_result"
    }
   ],
   "source": [
    "start_date = '2025-01-01'\n",
    "end_date = '2025-02-01'\n",
    "timeframe = mt5.TIMEFRAME_H1\n",
    "symbol = \"EURUSD\"\n",
    "\n",
    "candle_data = get_candle_data(symbol, timeframe, start_date, end_date)\n",
    "corrected_candle_data = correct_candle_data(candle_data)\n",
    "save_to_csv(corrected_candle_data, f\"{symbol}_{timeframe_to_string(timeframe)}_{start_date}_{end_date}.csv\")\n",
    "corrected_candle_data.head()\n"
   ]
  },
  {
   "cell_type": "markdown",
   "id": "d9718d46",
   "metadata": {},
   "source": [
    "Download and save tick data"
   ]
  },
  {
   "cell_type": "code",
   "execution_count": 7,
   "id": "d42363d0",
   "metadata": {},
   "outputs": [
    {
     "name": "stdout",
     "output_type": "stream",
     "text": [
      "Data saved to c:\\Users\\alpha.DESKTOP-55DQ8S8\\Desktop\\tfg\\data\\EURUSD_ticks_2025-01-01_2025-01-03.csv\n"
     ]
    },
    {
     "data": {
      "text/html": [
       "<div>\n",
       "<style scoped>\n",
       "    .dataframe tbody tr th:only-of-type {\n",
       "        vertical-align: middle;\n",
       "    }\n",
       "\n",
       "    .dataframe tbody tr th {\n",
       "        vertical-align: top;\n",
       "    }\n",
       "\n",
       "    .dataframe thead th {\n",
       "        text-align: right;\n",
       "    }\n",
       "</style>\n",
       "<table border=\"1\" class=\"dataframe\">\n",
       "  <thead>\n",
       "    <tr style=\"text-align: right;\">\n",
       "      <th></th>\n",
       "      <th>time</th>\n",
       "      <th>bid</th>\n",
       "      <th>ask</th>\n",
       "      <th>flags</th>\n",
       "      <th>spread</th>\n",
       "    </tr>\n",
       "  </thead>\n",
       "  <tbody>\n",
       "    <tr>\n",
       "      <th>0</th>\n",
       "      <td>2025-01-02 00:00:07</td>\n",
       "      <td>1.03516</td>\n",
       "      <td>1.03589</td>\n",
       "      <td>134</td>\n",
       "      <td>0.00073</td>\n",
       "    </tr>\n",
       "    <tr>\n",
       "      <th>1</th>\n",
       "      <td>2025-01-02 00:02:28</td>\n",
       "      <td>1.03516</td>\n",
       "      <td>1.03592</td>\n",
       "      <td>134</td>\n",
       "      <td>0.00076</td>\n",
       "    </tr>\n",
       "    <tr>\n",
       "      <th>2</th>\n",
       "      <td>2025-01-02 00:04:01</td>\n",
       "      <td>1.03516</td>\n",
       "      <td>1.03591</td>\n",
       "      <td>134</td>\n",
       "      <td>0.00075</td>\n",
       "    </tr>\n",
       "    <tr>\n",
       "      <th>3</th>\n",
       "      <td>2025-01-02 00:05:02</td>\n",
       "      <td>1.03516</td>\n",
       "      <td>1.03589</td>\n",
       "      <td>134</td>\n",
       "      <td>0.00073</td>\n",
       "    </tr>\n",
       "    <tr>\n",
       "      <th>4</th>\n",
       "      <td>2025-01-02 00:05:04</td>\n",
       "      <td>1.03516</td>\n",
       "      <td>1.03590</td>\n",
       "      <td>4</td>\n",
       "      <td>0.00074</td>\n",
       "    </tr>\n",
       "  </tbody>\n",
       "</table>\n",
       "</div>"
      ],
      "text/plain": [
       "                 time      bid      ask  flags   spread\n",
       "0 2025-01-02 00:00:07  1.03516  1.03589    134  0.00073\n",
       "1 2025-01-02 00:02:28  1.03516  1.03592    134  0.00076\n",
       "2 2025-01-02 00:04:01  1.03516  1.03591    134  0.00075\n",
       "3 2025-01-02 00:05:02  1.03516  1.03589    134  0.00073\n",
       "4 2025-01-02 00:05:04  1.03516  1.03590      4  0.00074"
      ]
     },
     "execution_count": 7,
     "metadata": {},
     "output_type": "execute_result"
    }
   ],
   "source": [
    "start_date = '2025-01-01'\n",
    "end_date = '2025-01-03'\n",
    "symbol = \"EURUSD\"\n",
    "\n",
    "tick_data = get_tick_data(symbol, start_date, end_date)\n",
    "corrected_tick_data = correct_tick_data(tick_data)\n",
    "save_to_csv(corrected_tick_data, f\"{symbol}_ticks_{start_date}_{end_date}.csv\")\n",
    "corrected_tick_data.head()"
   ]
  }
 ],
 "metadata": {
  "kernelspec": {
   "display_name": "marketmaster",
   "language": "python",
   "name": "python3"
  },
  "language_info": {
   "codemirror_mode": {
    "name": "ipython",
    "version": 3
   },
   "file_extension": ".py",
   "mimetype": "text/x-python",
   "name": "python",
   "nbconvert_exporter": "python",
   "pygments_lexer": "ipython3",
   "version": "3.12.0"
  }
 },
 "nbformat": 4,
 "nbformat_minor": 5
}
