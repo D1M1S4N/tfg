{
 "cells": [
  {
   "cell_type": "markdown",
   "id": "35644c31",
   "metadata": {},
   "source": [
    "Imports"
   ]
  },
  {
   "cell_type": "code",
   "execution_count": 7,
   "id": "bd9bf9af",
   "metadata": {},
   "outputs": [],
   "source": [
    "import pandas as pd\n",
    "import numpy as np\n",
    "import MetaTrader5 as mt5\n",
    "import mplfinance as mpf\n",
    "\n",
    "from download_data import get_candle_data, get_tick_data, save_to_csv, timeframe_to_string, load_from_csv\n",
    "from correct_data import correct_candle_data, correct_tick_data"
   ]
  },
  {
   "cell_type": "markdown",
   "id": "1192ae1a",
   "metadata": {},
   "source": [
    "Fibonacci: 0, 1, 1, 2, 3, 5, 8, 13, 21, 34, 55, 89, 144, 233, 377, 610, 987, 1597"
   ]
  },
  {
   "cell_type": "markdown",
   "id": "1942ee74",
   "metadata": {},
   "source": [
    "Download and save candle data"
   ]
  },
  {
   "cell_type": "code",
   "execution_count": 16,
   "id": "5b90a944",
   "metadata": {},
   "outputs": [
    {
     "name": "stdout",
     "output_type": "stream",
     "text": [
      "Data saved to c:\\Users\\alpha.DESKTOP-55DQ8S8\\Desktop\\tfg\\data\\EURUSD_D1_2023-01-01_2024-01-01.csv\n"
     ]
    },
    {
     "data": {
      "text/html": [
       "<div>\n",
       "<style scoped>\n",
       "    .dataframe tbody tr th:only-of-type {\n",
       "        vertical-align: middle;\n",
       "    }\n",
       "\n",
       "    .dataframe tbody tr th {\n",
       "        vertical-align: top;\n",
       "    }\n",
       "\n",
       "    .dataframe thead th {\n",
       "        text-align: right;\n",
       "    }\n",
       "</style>\n",
       "<table border=\"1\" class=\"dataframe\">\n",
       "  <thead>\n",
       "    <tr style=\"text-align: right;\">\n",
       "      <th></th>\n",
       "      <th>time</th>\n",
       "      <th>open</th>\n",
       "      <th>high</th>\n",
       "      <th>low</th>\n",
       "      <th>close</th>\n",
       "      <th>volume</th>\n",
       "      <th>spread</th>\n",
       "    </tr>\n",
       "  </thead>\n",
       "  <tbody>\n",
       "    <tr>\n",
       "      <th>0</th>\n",
       "      <td>2023-01-02</td>\n",
       "      <td>1.06755</td>\n",
       "      <td>1.07072</td>\n",
       "      <td>1.06501</td>\n",
       "      <td>1.06636</td>\n",
       "      <td>20576</td>\n",
       "      <td>0.00001</td>\n",
       "    </tr>\n",
       "    <tr>\n",
       "      <th>1</th>\n",
       "      <td>2023-01-03</td>\n",
       "      <td>1.06657</td>\n",
       "      <td>1.06828</td>\n",
       "      <td>1.05192</td>\n",
       "      <td>1.05474</td>\n",
       "      <td>94765</td>\n",
       "      <td>0.00001</td>\n",
       "    </tr>\n",
       "    <tr>\n",
       "      <th>2</th>\n",
       "      <td>2023-01-04</td>\n",
       "      <td>1.05480</td>\n",
       "      <td>1.06347</td>\n",
       "      <td>1.05404</td>\n",
       "      <td>1.06055</td>\n",
       "      <td>88867</td>\n",
       "      <td>0.00001</td>\n",
       "    </tr>\n",
       "    <tr>\n",
       "      <th>3</th>\n",
       "      <td>2023-01-05</td>\n",
       "      <td>1.06065</td>\n",
       "      <td>1.06310</td>\n",
       "      <td>1.05146</td>\n",
       "      <td>1.05210</td>\n",
       "      <td>80830</td>\n",
       "      <td>0.00001</td>\n",
       "    </tr>\n",
       "    <tr>\n",
       "      <th>4</th>\n",
       "      <td>2023-01-06</td>\n",
       "      <td>1.05209</td>\n",
       "      <td>1.06475</td>\n",
       "      <td>1.04814</td>\n",
       "      <td>1.06388</td>\n",
       "      <td>80563</td>\n",
       "      <td>0.00001</td>\n",
       "    </tr>\n",
       "  </tbody>\n",
       "</table>\n",
       "</div>"
      ],
      "text/plain": [
       "        time     open     high      low    close  volume   spread\n",
       "0 2023-01-02  1.06755  1.07072  1.06501  1.06636   20576  0.00001\n",
       "1 2023-01-03  1.06657  1.06828  1.05192  1.05474   94765  0.00001\n",
       "2 2023-01-04  1.05480  1.06347  1.05404  1.06055   88867  0.00001\n",
       "3 2023-01-05  1.06065  1.06310  1.05146  1.05210   80830  0.00001\n",
       "4 2023-01-06  1.05209  1.06475  1.04814  1.06388   80563  0.00001"
      ]
     },
     "execution_count": 16,
     "metadata": {},
     "output_type": "execute_result"
    }
   ],
   "source": [
    "start_date = '2023-01-01'\n",
    "end_date = '2024-01-01'\n",
    "timeframe = mt5.TIMEFRAME_D1\n",
    "symbol = \"EURUSD\"\n",
    "\n",
    "candle_data = get_candle_data(symbol, timeframe, start_date, end_date)\n",
    "corrected_candle_data = correct_candle_data(candle_data)\n",
    "save_to_csv(corrected_candle_data, f\"{symbol}_{timeframe_to_string(timeframe)}_{start_date}_{end_date}.csv\")\n",
    "corrected_candle_data.head()\n"
   ]
  },
  {
   "cell_type": "markdown",
   "id": "d9718d46",
   "metadata": {},
   "source": [
    "Download and save tick data"
   ]
  },
  {
   "cell_type": "code",
   "execution_count": null,
   "id": "d42363d0",
   "metadata": {},
   "outputs": [
    {
     "name": "stdout",
     "output_type": "stream",
     "text": [
      "Data saved to c:\\Users\\alpha.DESKTOP-55DQ8S8\\Desktop\\tfg\\data\\EURUSD_ticks_2025-01-01_2025-01-03.csv\n"
     ]
    },
    {
     "data": {
      "text/html": [
       "<div>\n",
       "<style scoped>\n",
       "    .dataframe tbody tr th:only-of-type {\n",
       "        vertical-align: middle;\n",
       "    }\n",
       "\n",
       "    .dataframe tbody tr th {\n",
       "        vertical-align: top;\n",
       "    }\n",
       "\n",
       "    .dataframe thead th {\n",
       "        text-align: right;\n",
       "    }\n",
       "</style>\n",
       "<table border=\"1\" class=\"dataframe\">\n",
       "  <thead>\n",
       "    <tr style=\"text-align: right;\">\n",
       "      <th></th>\n",
       "      <th>time</th>\n",
       "      <th>bid</th>\n",
       "      <th>ask</th>\n",
       "      <th>flags</th>\n",
       "      <th>spread</th>\n",
       "    </tr>\n",
       "  </thead>\n",
       "  <tbody>\n",
       "    <tr>\n",
       "      <th>0</th>\n",
       "      <td>2025-01-02 00:00:07</td>\n",
       "      <td>1.03516</td>\n",
       "      <td>1.03589</td>\n",
       "      <td>134</td>\n",
       "      <td>0.00073</td>\n",
       "    </tr>\n",
       "    <tr>\n",
       "      <th>1</th>\n",
       "      <td>2025-01-02 00:02:28</td>\n",
       "      <td>1.03516</td>\n",
       "      <td>1.03592</td>\n",
       "      <td>134</td>\n",
       "      <td>0.00076</td>\n",
       "    </tr>\n",
       "    <tr>\n",
       "      <th>2</th>\n",
       "      <td>2025-01-02 00:04:01</td>\n",
       "      <td>1.03516</td>\n",
       "      <td>1.03591</td>\n",
       "      <td>134</td>\n",
       "      <td>0.00075</td>\n",
       "    </tr>\n",
       "    <tr>\n",
       "      <th>3</th>\n",
       "      <td>2025-01-02 00:05:02</td>\n",
       "      <td>1.03516</td>\n",
       "      <td>1.03589</td>\n",
       "      <td>134</td>\n",
       "      <td>0.00073</td>\n",
       "    </tr>\n",
       "    <tr>\n",
       "      <th>4</th>\n",
       "      <td>2025-01-02 00:05:04</td>\n",
       "      <td>1.03516</td>\n",
       "      <td>1.03590</td>\n",
       "      <td>4</td>\n",
       "      <td>0.00074</td>\n",
       "    </tr>\n",
       "  </tbody>\n",
       "</table>\n",
       "</div>"
      ],
      "text/plain": [
       "                 time      bid      ask  flags   spread\n",
       "0 2025-01-02 00:00:07  1.03516  1.03589    134  0.00073\n",
       "1 2025-01-02 00:02:28  1.03516  1.03592    134  0.00076\n",
       "2 2025-01-02 00:04:01  1.03516  1.03591    134  0.00075\n",
       "3 2025-01-02 00:05:02  1.03516  1.03589    134  0.00073\n",
       "4 2025-01-02 00:05:04  1.03516  1.03590      4  0.00074"
      ]
     },
     "execution_count": 2,
     "metadata": {},
     "output_type": "execute_result"
    }
   ],
   "source": [
    "start_date = '2025-01-01'\n",
    "end_date = '2025-01-03'\n",
    "symbol = \"EURUSD\"\n",
    "\n",
    "tick_data = get_tick_data(symbol, start_date, end_date)\n",
    "corrected_tick_data = correct_tick_data(tick_data)\n",
    "save_to_csv(corrected_tick_data, f\"{symbol}_ticks_{start_date}_{end_date}.csv\")\n",
    "corrected_tick_data.head()"
   ]
  },
  {
   "cell_type": "markdown",
   "id": "0a08812a",
   "metadata": {},
   "source": [
    "Plot candles"
   ]
  },
  {
   "cell_type": "code",
   "execution_count": 18,
   "id": "c9d1516b",
   "metadata": {},
   "outputs": [
    {
     "data": {
      "image/png": "[encoded data removed]",
      "text/plain": [
       "<Figure size 800x575 with 4 Axes>"
      ]
     },
     "metadata": {},
     "output_type": "display_data"
    }
   ],
   "source": [
    "# Load the corrected candle data from CSV\n",
    "loaded_candle_data = load_from_csv(f\"{symbol}_{timeframe_to_string(timeframe)}_{start_date}_{end_date}.csv\")\n",
    "loaded_candle_data.index = pd.to_datetime(loaded_candle_data.index)\n",
    "\n",
    "# Plot the corrected candle data\n",
    "mpf.plot(loaded_candle_data, type='candle', style='charles', title=f\"{symbol} {timeframe_to_string(timeframe)}\", volume=True)"
   ]
  }
 ],
 "metadata": {
  "kernelspec": {
   "display_name": "marketmaster",
   "language": "python",
   "name": "python3"
  },
  "language_info": {
   "codemirror_mode": {
    "name": "ipython",
    "version": 3
   },
   "file_extension": ".py",
   "mimetype": "text/x-python",
   "name": "python",
   "nbconvert_exporter": "python",
   "pygments_lexer": "ipython3",
   "version": "3.12.0"
  }
 },
 "nbformat": 4,
 "nbformat_minor": 5
}
