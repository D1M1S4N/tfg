{
 "cells": [
  {
   "cell_type": "markdown",
   "id": "35644c31",
   "metadata": {},
   "source": [
    "Imports"
   ]
  },
  {
   "cell_type": "code",
   "execution_count": 3,
   "id": "bd9bf9af",
   "metadata": {},
   "outputs": [],
   "source": [
    "import pandas as pd\n",
    "import numpy as np\n",
    "import MetaTrader5 as mt5\n",
    "from download_data import get_candle_data, get_tick_data, save_to_csv, timeframe_to_string\n",
    "from correct_data import correct_candle_data"
   ]
  },
  {
   "cell_type": "code",
   "execution_count": 2,
   "id": "5b90a944",
   "metadata": {},
   "outputs": [
    {
     "name": "stdout",
     "output_type": "stream",
     "text": [
      "Data saved to c:\\Users\\alpha.DESKTOP-55DQ8S8\\Desktop\\TFG\\data\\EURUSD_H1_2025-01-01_2025-02-01.csv\n"
     ]
    }
   ],
   "source": [
    "start_date = '2025-01-01'\n",
    "end_date = '2025-02-01'\n",
    "timeframe = mt5.TIMEFRAME_H1\n",
    "symbol = \"EURUSD\"\n",
    "\n",
    "df = get_candle_data(symbol, timeframe, start_date, end_date)\n",
    "corrected_df = correct_candle_data(df)\n",
    "save_to_csv(corrected_df, f\"{symbol}_{timeframe_to_string(timeframe)}_{start_date}_{end_date}.csv\")"
   ]
  }
 ],
 "metadata": {
  "kernelspec": {
   "display_name": "marketmaster",
   "language": "python",
   "name": "python3"
  },
  "language_info": {
   "codemirror_mode": {
    "name": "ipython",
    "version": 3
   },
   "file_extension": ".py",
   "mimetype": "text/x-python",
   "name": "python",
   "nbconvert_exporter": "python",
   "pygments_lexer": "ipython3",
   "version": "3.12.0"
  }
 },
 "nbformat": 4,
 "nbformat_minor": 5
}
